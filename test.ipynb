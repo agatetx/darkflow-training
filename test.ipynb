{
 "cells": [
  {
   "cell_type": "code",
   "execution_count": null,
   "metadata": {
    "scrolled": true
   },
   "outputs": [],
   "source": [
    "from darkflow.net.build import TFNet\n",
    "%matplotlib inline\n",
    "from matplotlib import pyplot as plt\n",
    "import cv2\n",
    "\n",
    "options = {\"model\": \"cfg/yolo.cfg\", \"load\": \"bin/yolo.weights\", \"threshold\": 0.3}\n",
    "\n",
    "tfnet = TFNet(options)\n",
    "\n"
   ]
  },
  {
   "cell_type": "code",
   "execution_count": null,
   "metadata": {},
   "outputs": [],
   "source": [
    "imgcv = cv2.imread(\"sample_img/sample_dog.jpg\")\n",
    "result = tfnet.return_predict(imgcv)\n",
    "for item in result:\n",
    "    print(item)\n",
    "    cv2.rectangle(imgcv, (item['bottomright']['x'], item['bottomright']['y']), \\\n",
    "                  (item['topleft']['x'], item['topleft']['y']), (255,0,0), 2)\n",
    "plt.imshow(imgcv[:,:,::-1])"
   ]
  }
 ],
 "metadata": {
  "kernelspec": {
   "display_name": "Python 3",
   "language": "python",
   "name": "python3"
  },
  "language_info": {
   "codemirror_mode": {
    "name": "ipython",
    "version": 3
   },
   "file_extension": ".py",
   "mimetype": "text/x-python",
   "name": "python",
   "nbconvert_exporter": "python",
   "pygments_lexer": "ipython3",
   "version": "3.6.1"
  }
 },
 "nbformat": 4,
 "nbformat_minor": 2
}
